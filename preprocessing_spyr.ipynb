{
  "cells": [
    {
      "attachments": {},
      "cell_type": "markdown",
      "metadata": {},
      "source": [
        "# *Library and file dependancies*"
      ]
    },
    {
      "cell_type": "code",
      "execution_count": null,
      "metadata": {},
      "outputs": [],
      "source": [
        "# !pip install kneed\n"
      ]
    },
    {
      "attachments": {},
      "cell_type": "markdown",
      "metadata": {},
      "source": [
        "*Libraries*"
      ]
    },
    {
      "cell_type": "code",
      "execution_count": null,
      "metadata": {
        "colab": {
          "base_uri": "https://localhost:8080/"
        },
        "id": "-hDAZSGCKb3O",
        "outputId": "6ee32fc4-73eb-4f35-a4b7-55b4ad05dbc9"
      },
      "outputs": [],
      "source": [
        "# Single cell \n",
        "import pandas as pd\n",
        "import numpy as np\n",
        "import scanpy as sc\n",
        "import anndata as ad\n",
        "from kneed import KneeLocator\n",
        "import matplotlib.pyplot as plt\n",
        "import seaborn as sns\n",
        "from sklearn.model_selection import ParameterGrid\n",
        "# Consider aesthetics\n",
        "plt.rcParams['mathtext.fontset'] = 'stix'\n",
        "plt.rcParams['font.family'] = 'STIXGeneral'\n",
        "plt.rcParams['axes.axisbelow'] = True\n",
        "plt.rcParams.update({'font.size': 17})\n",
        "# Output control\n",
        "import warnings\n",
        "warnings.filterwarnings(\"ignore\")"
      ]
    },
    {
      "attachments": {},
      "cell_type": "markdown",
      "metadata": {},
      "source": [
        "*Single cell utility functions*"
      ]
    },
    {
      "cell_type": "code",
      "execution_count": null,
      "metadata": {},
      "outputs": [],
      "source": [
        "from utils.plotting import *\n",
        "from utils.optimization import *\n",
        "from utils.stats import *"
      ]
    },
    {
      "attachments": {},
      "cell_type": "markdown",
      "metadata": {},
      "source": [
        "*data file path*"
      ]
    },
    {
      "cell_type": "code",
      "execution_count": null,
      "metadata": {},
      "outputs": [],
      "source": [
        "filepath = 'datasets/'"
      ]
    },
    {
      "attachments": {},
      "cell_type": "markdown",
      "metadata": {
        "id": "thvzVgp3KLZL"
      },
      "source": [
        "# 1. **Preprocessing**"
      ]
    },
    {
      "attachments": {},
      "cell_type": "markdown",
      "metadata": {},
      "source": [
        "## **Data formatting** "
      ]
    },
    {
      "attachments": {},
      "cell_type": "markdown",
      "metadata": {
        "id": "J4DNrvm-K4Mr"
      },
      "source": [
        "The original counts matrix is in txt format, where the columns are cells and the rows are genes. For this reason we load the dataset into a pandas dataframe and:\n",
        "1. Remove the gene_id and gene_type columns\n",
        "2. Set the gene name column as the index\n",
        "3. Transpose the Dataframe\n",
        "\n",
        "Finally we can load the Dataframe into an AnnData object, readable by scanpy. "
      ]
    },
    {
      "cell_type": "code",
      "execution_count": null,
      "metadata": {
        "id": "ItTg0PuWK4ij"
      },
      "outputs": [],
      "source": [
        "# Pass the txt file into a csv via pandas with tab delimeter\n",
        "df = pd.read_csv(filepath+\"GSE75688_GEO_processed_Breast_Cancer_raw_TPM_matrix.txt\", delimiter=\"\\t\")\n",
        "df.drop(['gene_id','gene_type'], axis = 1, inplace = True)\n",
        "df.set_index('gene_name', drop=True, inplace=True)\n",
        "df = df.rename_axis(None)\n",
        "df  = df.T \n",
        "adata = sc.AnnData(df.values)\n",
        "adata.var_names = df.columns  # Assign column names as feature (gene) names\n",
        "adata.obs_names = df.index  # Assign row names as observation names (cell or sample names)\n",
        "adata.var_names_make_unique() # In case of repeatring genes, make the unique\n",
        "print(adata)\n",
        "print(\"\\n---------------------\\n\")\n",
        "print(adata.obs_names)"
      ]
    },
    {
      "attachments": {},
      "cell_type": "markdown",
      "metadata": {},
      "source": [
        "We have a counts matrix with 563 observations and 57915 genes. As you can see in the adata object observation we also have pooled tumour samples. Thus we will seperate the information into two adata objects:\n",
        "- One for pooled cell counts `padata` \n",
        "- One for cell counts `cadata`"
      ]
    },
    {
      "cell_type": "code",
      "execution_count": null,
      "metadata": {},
      "outputs": [],
      "source": [
        "# Cell adata \n",
        "cadata = adata[14:]\n",
        "print(f\"Cell adata obvervations: {cadata.obs_names}\\n\")\n",
        "padata = adata[:14]\n",
        "print(f\"Pool cell adata observations: {padata.obs_names}\\n\")"
      ]
    },
    {
      "cell_type": "code",
      "execution_count": null,
      "metadata": {},
      "outputs": [],
      "source": [
        "df = pd.read_csv(filepath+\"GSE75688_final_sample_information.txt\", delimiter=\"\\t\")\n",
        "df_sorted = df.sort_values(by='sample', ascending=True)\n",
        "df_sorted = pd.concat([df[df['sample'].str.split('_', expand=True)[1] == 'Pooled'],\n",
        "                      df[df['sample'].str.split('_', expand=True)[1] != 'Pooled']])\n",
        "\n",
        "pooled_names = df.loc[df['sample'].str.contains('_Pooled'), 'sample']\n",
        "\n",
        "mask = df['sample'].isin(pooled_names)\n",
        "\n",
        "sorted_lines = df[mask].sort_values(by='sample')\n",
        "\n",
        "df_sorted = pd.concat([sorted_lines, df[~mask]])\n",
        "# rename the BC07_Pooled as BC07_Tumor\n",
        "df_sorted.loc[129, 'sample'] = 'BC07_Tumor'\n",
        "\n",
        "bulk_rows = df_sorted[df_sorted['type'] == \"Bulk\"]\n",
        "rest_rows = df_sorted[df_sorted['type'] != \"Bulk\"]\n",
        "\n",
        "df_sorted.head(25)"
      ]
    },
    {
      "attachments": {},
      "cell_type": "markdown",
      "metadata": {
        "id": "mYvUgGlLVY8I"
      },
      "source": [
        "Another very important step is to assign each cell population to a tumor group. Cells are named by \"BC\":PREFIX + \"02-11\":PATIENT + \"_\" + \"cell number\", thus we can remove the specific cell number and only keep the patient tumor identifier \"BC02\" to \"BC011\"."
      ]
    },
    {
      "cell_type": "code",
      "execution_count": null,
      "metadata": {
        "id": "XRJ7-V5CWkGB"
      },
      "outputs": [],
      "source": [
        "tumor_groups_c = [obs_name if \"Pooled\" in obs_name else obs_name.split(\"_\")[0] for obs_name in cadata.obs_names]\n",
        "cadata.obs['tumor_groups'] = tumor_groups_c\n",
        "# For example the first gorup of cells should belong to the tumor of patient one \n",
        "cadata.obs['tumor_groups'].head()"
      ]
    },
    {
      "attachments": {},
      "cell_type": "markdown",
      "metadata": {},
      "source": [
        "## **Quality Control**"
      ]
    },
    {
      "attachments": {},
      "cell_type": "markdown",
      "metadata": {},
      "source": [
        "For quality control we utilize our own pipeline following single cell best practises, we end up with 518 cells rather than 515 of the Authors.\n",
        "\n",
        "Before we begin we simply remove genes that have 0 expression across all cells since they can affect heavily the QC process"
      ]
    },
    {
      "cell_type": "code",
      "execution_count": null,
      "metadata": {},
      "outputs": [],
      "source": [
        "mask = cadata.X.sum(axis = 0) == 0\n",
        "cadata = cadata[:,~mask]\n",
        "padata = padata[:,~mask]\n",
        "cadata"
      ]
    },
    {
      "attachments": {},
      "cell_type": "markdown",
      "metadata": {},
      "source": [
        "## *Cell fileting*"
      ]
    },
    {
      "attachments": {},
      "cell_type": "markdown",
      "metadata": {},
      "source": [
        "As you can see this removed 21.792 genes that were not expressed in any of the cells"
      ]
    },
    {
      "attachments": {},
      "cell_type": "markdown",
      "metadata": {},
      "source": [
        "We continue with the QC:"
      ]
    },
    {
      "attachments": {},
      "cell_type": "markdown",
      "metadata": {},
      "source": [
        "To maintain quality control, we follow the best practices by removing cells from our analysis that show certain characteristics. These characteristics include having a small number of detected genes, low count depth, and a high proportion of mitochondrial counts. These traits may suggest that the cell membrane is compromised or that the cell is dead. Since these cells are not the main focus of our analysis and can affect the accuracy of our subsequent analysis, we remove them from our dataset using the three covariates.\n",
        "\n",
        "  - The number of counts per cell (count depth)\n",
        "\n",
        "  - The number of genes per cell\n",
        "\n",
        "  - The fraction of counts from mitochondrial genes per cell <--- However in the context of breast cancer, since cancer cells may have altered mitchondrial pathways, we wont remove cells based on the last covariate"
      ]
    },
    {
      "attachments": {},
      "cell_type": "markdown",
      "metadata": {},
      "source": [
        "Below we annotate mitochondrial genes:"
      ]
    },
    {
      "cell_type": "code",
      "execution_count": null,
      "metadata": {},
      "outputs": [],
      "source": [
        "# mitochondrial genes\n",
        "cadata.var[\"mt\"] = cadata.var_names.str.startswith(\"MT-\")"
      ]
    },
    {
      "attachments": {},
      "cell_type": "markdown",
      "metadata": {
        "id": "cB6AeN6vAyh5"
      },
      "source": [
        "Before proceeding with cell & gene filtering we annotate quality control metrics to the counts matrix via scanpy's `calculate_qc_metrics` for the `cadata` counts matrix for the top 20% genes."
      ]
    },
    {
      "cell_type": "code",
      "execution_count": null,
      "metadata": {},
      "outputs": [],
      "source": [
        "sc.pp.calculate_qc_metrics(cadata, qc_vars=[\"mt\"], inplace=True, percent_top=[20], log1p=True\n",
        ")\n",
        "cadata"
      ]
    },
    {
      "attachments": {},
      "cell_type": "markdown",
      "metadata": {
        "id": "v5DvOfDlTjGV"
      },
      "source": [
        "- \"log1p total counts\" refers to the log transformed overall count of all gene expression in a cell.\n",
        "- The \"log1p n genes by counts\" value signifies the log transformed number of genes expressed in each cell.\n",
        "- The \"pct_counts_in_top_20_genes\" value show the percentage of the total expression in each cell the 20 most expressed genes have."
      ]
    },
    {
      "attachments": {},
      "cell_type": "markdown",
      "metadata": {},
      "source": [
        "Regarding the proportion of total counts in a cell that can be attributed to mitochondrial genes, we can see that we have outliers with very high mitochondrial gene expression"
      ]
    },
    {
      "cell_type": "code",
      "execution_count": null,
      "metadata": {},
      "outputs": [],
      "source": [
        "sc.pl.scatter(cadata, y = 'log1p_n_genes_by_counts', x = 'log1p_total_counts', color='tumor_groups') \n",
        "# sc.pl.violin(cadata, ['n_genes_by_counts'], save='_n_genes', jitter=1)\n",
        "# sc.pl.violin(cadata, ['total_counts'], save='_total_counts', jitter=1)\n",
        "\n"
      ]
    },
    {
      "cell_type": "code",
      "execution_count": null,
      "metadata": {},
      "outputs": [],
      "source": [
        "sc.pl.violin(cadata, \"log1p_total_counts\", show =False, size = 5)\n",
        "plt.title(\"Gene Expression Density\")\n",
        "plt.xlabel(\"Cells\")\n",
        "plt.ylabel(\"Density\")\n",
        "plt.show()"
      ]
    },
    {
      "cell_type": "code",
      "execution_count": null,
      "metadata": {},
      "outputs": [],
      "source": [
        "sc.pl.violin(cadata, \"log1p_n_genes_by_counts\", show =False, size = 5)\n",
        "plt.title(\"# Of Genes Density\")\n",
        "plt.xlabel(\"Cells\")\n",
        "plt.ylabel(\"Density\")\n",
        "plt.axhline(y=7.8, color='red', linestyle='--')\n",
        "\n",
        "plt.show()"
      ]
    },
    {
      "cell_type": "code",
      "execution_count": null,
      "metadata": {},
      "outputs": [],
      "source": [
        "sc.pl.violin(cadata, \"pct_counts_in_top_20_genes\", show =False, size = 5)\n",
        "plt.title(\"% Total Expression of the 20 most expressed genes\")\n",
        "plt.xlabel(\"Cell\")\n",
        "plt.ylabel(\"Percentage\")\n",
        "plt.show()"
      ]
    },
    {
      "cell_type": "code",
      "execution_count": null,
      "metadata": {},
      "outputs": [],
      "source": [
        "sc.pl.violin(cadata, \"pct_counts_mt\", show =False, size = 5)\n",
        "plt.title(\"# Of Genes Density\")\n",
        "plt.xlabel(\"Cells\")\n",
        "plt.ylabel(\"Density\")\n",
        "plt.axhline(y=60, color='red', linestyle='--')\n",
        "\n",
        "plt.show()"
      ]
    },
    {
      "attachments": {},
      "cell_type": "markdown",
      "metadata": {},
      "source": [
        "Based on the above, we remove cells that are located 5 absolute deviations from the median in any of the above distributions.\n",
        "$$ MAD = median(|X_i - median(X))$$\n"
      ]
    },
    {
      "cell_type": "code",
      "execution_count": null,
      "metadata": {},
      "outputs": [],
      "source": [
        "# cadata[(cadata.obs.log1p_n_genes_by_counts > 7.8) &\n",
        "# (cadata.obs.pct_counts_mt < 60) ,:].shape\n",
        "# (cadata.obs.pct_counts_mt < 65),:].shape\n",
        "\n",
        "# cadata = cadata[(cadata.obs.log1p_total_counts_mt > 9.7) & \n",
        "# (cadata.obs.log1p_n_genes_by_counts > 7.7) &\n",
        "# (cadata.obs.pct_counts_mt < 65),:]"
      ]
    },
    {
      "cell_type": "code",
      "execution_count": null,
      "metadata": {},
      "outputs": [],
      "source": [
        "cadata.obs[\"outlier\"] = (\n",
        "    is_outlier(cadata, \"log1p_total_counts\", 5)\n",
        "    | is_outlier(cadata, \"log1p_n_genes_by_counts\", 5)\n",
        "    | is_outlier(cadata, \"pct_counts_in_top_20_genes\", 5)\n",
        ")\n",
        "cadata.obs.outlier.value_counts()"
      ]
    },
    {
      "cell_type": "code",
      "execution_count": null,
      "metadata": {},
      "outputs": [],
      "source": [
        "cadata = cadata[~cadata.obs.outlier]"
      ]
    },
    {
      "cell_type": "code",
      "execution_count": null,
      "metadata": {},
      "outputs": [],
      "source": [
        "# Convert \"sample\" column to a list\n",
        "sample_values = rest_rows[\"sample\"].tolist()\n",
        "\n",
        "# Check if each value from cadata.obs_names is present in sample_values\n",
        "is_present = cadata.obs_names.isin(sample_values)\n",
        "count_true = is_present.sum()\n",
        "\n",
        "# Print the result\n",
        "print(count_true)"
      ]
    },
    {
      "cell_type": "code",
      "execution_count": null,
      "metadata": {},
      "outputs": [],
      "source": [
        "# Apply the mask to the cadata\n",
        "cadata = cadata[is_present]\n",
        "cadata"
      ]
    },
    {
      "attachments": {},
      "cell_type": "markdown",
      "metadata": {},
      "source": [
        "## Same for Padata ##"
      ]
    },
    {
      "cell_type": "code",
      "execution_count": null,
      "metadata": {},
      "outputs": [],
      "source": [
        "padata.var[\"mt\"] = padata.var_names.str.startswith(\"MT-\")\n",
        "\n",
        "sc.pp.calculate_qc_metrics(padata, qc_vars=[\"mt\"], inplace=True, percent_top=[20], log1p=True\n",
        ")\n",
        "padata"
      ]
    },
    {
      "cell_type": "code",
      "execution_count": null,
      "metadata": {},
      "outputs": [],
      "source": [
        "padata.obs[\"outlier\"] = (\n",
        "     is_outlier(padata, \"log1p_n_genes_by_counts\", 5)\n",
        ")\n",
        "padata.obs.outlier.value_counts()"
      ]
    },
    {
      "cell_type": "code",
      "execution_count": null,
      "metadata": {},
      "outputs": [],
      "source": [
        "sc.pl.violin(padata, \"log1p_n_genes_by_counts\", show =False, size = 5)\n",
        "plt.axhline(y=9.5, color='red', linestyle='--')"
      ]
    },
    {
      "cell_type": "code",
      "execution_count": null,
      "metadata": {},
      "outputs": [],
      "source": [
        "padata = padata[~padata.obs.outlier]"
      ]
    },
    {
      "cell_type": "code",
      "execution_count": null,
      "metadata": {},
      "outputs": [],
      "source": [
        "# Convert \"sample\" column to a list\n",
        "sample_values = bulk_rows[\"sample\"].tolist()\n",
        "\n",
        "# Check if each value from cadata.obs_names is present in sample_values\n",
        "is_present = padata.obs_names.isin(sample_values)\n",
        "count_true = is_present.sum()\n",
        "\n",
        "# Print the result\n",
        "print(count_true)"
      ]
    },
    {
      "cell_type": "code",
      "execution_count": null,
      "metadata": {},
      "outputs": [],
      "source": [
        "# Apply the mask to the padata\n",
        "padata = padata[is_present]\n",
        "padata"
      ]
    },
    {
      "attachments": {},
      "cell_type": "markdown",
      "metadata": {},
      "source": [
        "## *Gene Filtering*"
      ]
    },
    {
      "attachments": {},
      "cell_type": "markdown",
      "metadata": {},
      "source": [
        "For gene filtering we follow the authors workflow and:\n",
        "1. Set to 0 genes with counts < 1.\n",
        "2. Remove genes that are expressed in less than 10% of all tumour groups. Below is an example of tumour expression for 10 of the total 36123 genes"
      ]
    },
    {
      "cell_type": "code",
      "execution_count": null,
      "metadata": {},
      "outputs": [],
      "source": [
        "# 1. \n",
        "cadata.X[cadata.X < 1] = 0"
      ]
    },
    {
      "cell_type": "code",
      "execution_count": null,
      "metadata": {},
      "outputs": [],
      "source": [
        "sc.pl.dotplot(cadata,cadata.var_names[:10],groupby=\"tumor_groups\")"
      ]
    },
    {
      "attachments": {},
      "cell_type": "markdown",
      "metadata": {},
      "source": [
        "Now we can filter out all the genes expressed in 10% of all tumour groups."
      ]
    },
    {
      "cell_type": "code",
      "execution_count": null,
      "metadata": {},
      "outputs": [],
      "source": [
        "df_expression = pd.DataFrame(data=cadata.X, columns=cadata.var_names)\n",
        "df_expression['tumor_groups'] = cadata.obs['tumor_groups'].values\n",
        "\n",
        "# Group by tumor groups and sum the expression values for cells in the group\n",
        "group = df_expression.groupby(\"tumor_groups\").sum() \n",
        "# Make expression binary\n",
        "group[group > 0] = 1\n",
        "mask = group.sum(axis = 0) < 0.1 * group.shape[0] \n",
        "cadata = cadata[:,~mask]\n",
        "padata = padata[:,~mask]\n",
        "cadata"
      ]
    },
    {
      "attachments": {},
      "cell_type": "markdown",
      "metadata": {},
      "source": [
        "Finally we can perform log transformation and normalization"
      ]
    },
    {
      "cell_type": "code",
      "execution_count": null,
      "metadata": {},
      "outputs": [],
      "source": [
        "cadata.X"
      ]
    },
    {
      "cell_type": "code",
      "execution_count": null,
      "metadata": {},
      "outputs": [],
      "source": [
        "sc.pp.normalize_total(cadata)\n",
        "sc.pp.log1p(cadata, base = 2)\n",
        "\n",
        "sc.pp.normalize_total(padata)\n",
        "sc.pp.log1p(padata, base = 2)"
      ]
    },
    {
      "attachments": {},
      "cell_type": "markdown",
      "metadata": {},
      "source": [
        "We obtained 27,000 genes out of the 57,000 total, which is higher than the 17,000 genes reported by the authors."
      ]
    },
    {
      "cell_type": "code",
      "execution_count": null,
      "metadata": {},
      "outputs": [],
      "source": [
        "padata"
      ]
    },
    {
      "cell_type": "code",
      "execution_count": null,
      "metadata": {},
      "outputs": [],
      "source": [
        "sc.pp.pca(padata)\n",
        "sc.pl.pca(padata,annotate_var_explained = True, title = \"PCA, pooled counts\",add_outline=True, size = 50,palette = \"tab20\")"
      ]
    },
    {
      "cell_type": "code",
      "execution_count": null,
      "metadata": {},
      "outputs": [],
      "source": [
        "sc.pp.pca(cadata)\n",
        "sc.pl.pca(cadata, color = \"tumor_groups\",annotate_var_explained = True, title = \"PCA cell counts\",add_outline=True, size = 50,palette = \"tab20\")"
      ]
    },
    {
      "cell_type": "code",
      "execution_count": null,
      "metadata": {},
      "outputs": [],
      "source": [
        "sc.pl.pca_variance_ratio(cadata, log=True, n_pcs=50, show=False)\n",
        "plt.axvline(x=8, color='red',linestyle='--')\n",
        "plt.show()\n"
      ]
    },
    {
      "attachments": {},
      "cell_type": "markdown",
      "metadata": {},
      "source": [
        "Ανουσιο το κουμουλατιβ βαριανς πλοτ "
      ]
    },
    {
      "cell_type": "code",
      "execution_count": null,
      "metadata": {},
      "outputs": [],
      "source": [
        "# y = np.cumsum(cadata.uns['pca']['variance_ratio'])\n",
        "# x = range(1,y.shape[0]+1)\n",
        "\n",
        "# plt.figure(figsize=(15, 10), dpi=80)\n",
        "# plt.plot(x, y, marker=',', linestyle='-', color='b')\n",
        "# plt.ylim(0.0, 1.1)\n",
        "# plt.xlabel('Number of Components')\n",
        "# plt.xticks(np.arange(0, cadata.uns['pca']['variance_ratio'].shape[0]+1, step=10))\n",
        "# plt.ylabel('Cumulative variance (%)')\n",
        "# plt.title('PCA Variance vs. Number of Components')\n",
        "\n",
        "# plt.axhline(y=0.95, color='red', linestyle='--')\n",
        "# plt.text(0.5, 0.95, '95% cut-off threshold', color='red', fontsize=16)\n",
        "# plt.axhline(y=0.80, color='green', linestyle='--')\n",
        "# plt.text(0.5, 0.80, '80% cut-off threshold', color='green', fontsize=16)\n",
        "# plt.axhline(y=1, color='black', linestyle='--')\n",
        "\n",
        "# for x in np.arange(0, cadata.uns['pca']['variance_ratio'].shape[0]+1, step=10):\n",
        "#     plt.axvline(x=x, color='gray', linestyle=':', alpha=0.5)\n",
        "\n",
        "# plt.grid(axis='x')\n",
        "# plt.tight_layout()\n",
        "# plt.show()"
      ]
    },
    {
      "attachments": {},
      "cell_type": "markdown",
      "metadata": {},
      "source": [
        "## Save the processed adata objects ##"
      ]
    },
    {
      "cell_type": "code",
      "execution_count": null,
      "metadata": {},
      "outputs": [],
      "source": [
        "adata.write(\"datasets/processed_cellcounts.h5ad\")\n",
        "adata.write(\"datasets/processed_pooledcounts.h5ad\")"
      ]
    },
    {
      "attachments": {},
      "cell_type": "markdown",
      "metadata": {},
      "source": [
        "## UMAP ###"
      ]
    },
    {
      "cell_type": "code",
      "execution_count": null,
      "metadata": {},
      "outputs": [],
      "source": [
        "umap_adata = cadata.copy()\n",
        "\n",
        "# param_grid_nei = {'n_pcs': [9],'use_rep':[None],\n",
        "#         'n_neighbors': [10,15,20,25,30,35,40]}\n",
        "# param_grid_umap = {'min_dist':[0.5,0.75,1], 'random_state':[0]}\n",
        "\n",
        "# for params in ParameterGrid(param_grid_nei):\n",
        "#   for params_umap in ParameterGrid(param_grid_umap):\n",
        "#     sc.pp.neighbors(umap_adata, **params)\n",
        "#     sc.tl.umap(umap_adata,**params_umap)\n",
        "#     title ='UMAP'+'_'+  str(params['n_neighbors'])+'_'+  str(params['n_pcs'])+'_'+ str(params_umap['min_dist'])\n",
        "#     sc.pl.umap(umap_adata, color=\"tumor_groups\", title=title)\n",
        "\n",
        "sc.pp.neighbors(umap_adata, n_pcs=9, n_neighbors=10)\n",
        "sc.tl.umap(umap_adata,min_dist=0.75, random_state=0 )\n",
        "\n",
        "# # sc.pp.neighbors(umap_adata, n_pcs=9, n_neighbors=15)\n",
        "# # sc.tl.umap(umap_adata,min_dist=1, random_state=0 )\n",
        "\n",
        "# # sc.pp.neighbors(umap_adata, n_pcs=9, n_neighbors=20)\n",
        "# # sc.tl.umap(umap_adata,min_dist=1, random_state=0 )\n",
        "\n",
        "\n",
        "# # sc.pp.neighbors(umap_adata, n_pcs=9, n_neighbors=10)\n",
        "# # sc.tl.umap(umap_adata,min_dist=0.5, random_state=0 )\n",
        "\n",
        "sc.pl.umap(umap_adata, color=\"tumor_groups\", title='UMAP 9n 6pc 0.75dist', add_outline=True, size = 50,palette = \"tab20\")\n"
      ]
    },
    {
      "cell_type": "code",
      "execution_count": null,
      "metadata": {},
      "outputs": [],
      "source": [
        "sc.pp.neighbors(cadata, n_pcs=9, n_neighbors=10)\n",
        "sc.tl.umap(cadata,min_dist=0.75, random_state=0 )"
      ]
    },
    {
      "attachments": {},
      "cell_type": "markdown",
      "metadata": {},
      "source": [
        "## t-SNE ##"
      ]
    },
    {
      "cell_type": "code",
      "execution_count": null,
      "metadata": {},
      "outputs": [],
      "source": [
        "def tsne_params(datasize):\n",
        "  n = datasize/100\n",
        "  if n/100 > 30:\n",
        "    perplexity = 30 + n/100 \n",
        "  else:\n",
        "    perplexity = 30\n",
        "  if datasize/12 > 200:\n",
        "    learning_rate = datasize/12\n",
        "  else:\n",
        "    learning_rate = 200\n",
        "  return learning_rate, perplexity"
      ]
    },
    {
      "cell_type": "code",
      "execution_count": null,
      "metadata": {},
      "outputs": [],
      "source": [
        "tsne_adata = umap_adata.copy()\n",
        "\n",
        "lr, perpl = tsne_params(umap_adata.X.shape[0])\n",
        "\n",
        "\n",
        "# n_pcs=[10,11,12,13,14,15,16,17,18,19,20]\n",
        "\n",
        "# for par in n_pcs:\n",
        "#     params = {'learning_rate': lr, 'perplexity': perpl, 'n_pcs': par}\n",
        "#     sc.tl.tsne(tsne_adata, **params)\n",
        "#     title = str(params) + '_t-SNE'\n",
        "#     sc.pl.tsne(tsne_adata, color=\"tumor_groups\", title=title)#, add_outline=True, size=50, palette=\"tab20\")\n",
        "\n",
        "\n",
        "sc.tl.tsne(tsne_adata, learning_rate=lr, n_pcs = 9, perplexity=perpl )\n",
        "sc.pl.tsne(tsne_adata, color=\"tumor_groups\", title='t-SNE', add_outline=True, size=50, palette=\"tab20\")\n"
      ]
    },
    {
      "cell_type": "code",
      "execution_count": null,
      "metadata": {},
      "outputs": [],
      "source": [
        "sc.tl.tsne(cadata, learning_rate=lr, n_pcs = 9, perplexity=perpl )"
      ]
    },
    {
      "attachments": {},
      "cell_type": "markdown",
      "metadata": {},
      "source": [
        "## Separation of Carcinoma and non Carcinoma cells "
      ]
    },
    {
      "cell_type": "code",
      "execution_count": null,
      "metadata": {},
      "outputs": [],
      "source": [
        "rest_rows.head()"
      ]
    },
    {
      "cell_type": "code",
      "execution_count": null,
      "metadata": {},
      "outputs": [],
      "source": [
        "# Create a mapping dictionary from rest_rows\n",
        "mapping_class = rest_rows.set_index('sample')['index'].to_dict()\n",
        "mapping_type = rest_rows.set_index('sample')['index2'].to_dict()\n",
        "mapping_spec = rest_rows.set_index('sample')['index3'].to_dict()\n",
        "\n",
        "cadata.obs['class'] = cadata.obs_names.map(mapping_class)\n",
        "cadata.obs['type'] = cadata.obs_names.map(mapping_type)\n",
        "cadata.obs['spec'] = cadata.obs_names.map(mapping_spec)"
      ]
    },
    {
      "cell_type": "code",
      "execution_count": null,
      "metadata": {},
      "outputs": [],
      "source": [
        "# Same for padata\n",
        "mapping_class = bulk_rows.set_index('sample')['index'].to_dict()\n",
        "mapping_type = bulk_rows.set_index('sample')['index2'].to_dict()\n",
        "mapping_spec = bulk_rows.set_index('sample')['index3'].to_dict()\n",
        "\n",
        "padata.obs['class'] = padata.obs_names.map(mapping_class)\n",
        "padata.obs['type'] = padata.obs_names.map(mapping_type)\n",
        "padata.obs['spec'] = padata.obs_names.map(mapping_spec)"
      ]
    },
    {
      "cell_type": "code",
      "execution_count": null,
      "metadata": {},
      "outputs": [],
      "source": [
        "sc.pl.umap(cadata, color=\"class\", title='Carcinoma/Non carcinoma cells/UMAP', add_outline=True, size = 50,palette = \"tab20\")"
      ]
    },
    {
      "cell_type": "code",
      "execution_count": null,
      "metadata": {},
      "outputs": [],
      "source": [
        "sc.pl.tsne(cadata, color=\"class\", title='Carcinoma/Non carcinoma cells/TSNE', add_outline=True, size = 50,palette = \"tab20\")"
      ]
    },
    {
      "cell_type": "code",
      "execution_count": null,
      "metadata": {},
      "outputs": [],
      "source": [
        "sc.pl.pca(cadata, color=\"class\", title='Carcinoma/Non carcinoma cells/PCA', add_outline=True, size = 50,palette = \"tab20\")"
      ]
    },
    {
      "cell_type": "code",
      "execution_count": null,
      "metadata": {},
      "outputs": [],
      "source": [
        "from sklearn.cluster import AgglomerativeClustering\n",
        "\n",
        "data = cadata.X\n",
        "labels = (cadata.obs[\"class\"] == \"Tumor\").astype(int)\n",
        "\n",
        "# Apply hierarchical clustering with 2 clusters\n",
        "model = AgglomerativeClustering(n_clusters=2, affinity='euclidean', linkage='ward')\n",
        "model.fit(data)\n",
        "\n",
        "predicted_labels = model.labels_\n",
        "\n",
        "# Compare predicted labels with actual labels\n",
        "accuracy = (predicted_labels == labels).mean()\n",
        "print(f\"Accuracy: {accuracy}\")\n"
      ]
    },
    {
      "cell_type": "code",
      "execution_count": null,
      "metadata": {},
      "outputs": [],
      "source": [
        "cadata.obs['Labels'] = predicted_labels.astype(str)\n",
        "\n",
        "# Plot the gene expression heatmap with cluster annotations\n",
        "sc.pl.heatmap(cadata, var_names=cadata.var_names, groupby='Labels', cmap='viridis',\n",
        "             dendrogram=True, show=True, figsize=(12, 8))"
      ]
    },
    {
      "cell_type": "code",
      "execution_count": null,
      "metadata": {},
      "outputs": [],
      "source": [
        "sc.pl.scatter(cadata,x='log1p_n_genes_by_counts', y='log1p_total_counts_mt', color='class', legend_fontsize=10, size = 100, show=True, title='Scatter plot of cancer & non cancer cells' )"
      ]
    },
    {
      "cell_type": "code",
      "execution_count": null,
      "metadata": {},
      "outputs": [],
      "source": [
        "sc.pl.clustermap(cadata)"
      ]
    },
    {
      "cell_type": "code",
      "execution_count": null,
      "metadata": {},
      "outputs": [],
      "source": []
    },
    {
      "cell_type": "code",
      "execution_count": null,
      "metadata": {},
      "outputs": [],
      "source": []
    }
  ],
  "metadata": {
    "colab": {
      "authorship_tag": "ABX9TyNTK1PPZeXPdWifod/GraHo",
      "include_colab_link": true,
      "mount_file_id": "1HKnILUyq9Rk5QaPlmnTqFPb7Hv4TgC-a",
      "provenance": []
    },
    "kernelspec": {
      "display_name": "Python 3",
      "name": "python3"
    },
    "language_info": {
      "codemirror_mode": {
        "name": "ipython",
        "version": 3
      },
      "file_extension": ".py",
      "mimetype": "text/x-python",
      "name": "python",
      "nbconvert_exporter": "python",
      "pygments_lexer": "ipython3",
      "version": "3.9.13"
    }
  },
  "nbformat": 4,
  "nbformat_minor": 0
}

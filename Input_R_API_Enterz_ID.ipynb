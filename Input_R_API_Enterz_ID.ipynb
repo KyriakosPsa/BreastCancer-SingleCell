{
  "cells": [
    {
      "cell_type": "code",
      "execution_count": null,
      "metadata": {
        "colab": {
          "base_uri": "https://localhost:8080/"
        },
        "id": "FHWCAmhFsiSC",
        "outputId": "1444eaf0-e217-4970-d7a4-27c6763fffbf"
      },
      "outputs": [
        {
          "name": "stdout",
          "output_type": "stream",
          "text": [
            "Looking in indexes: https://pypi.org/simple, https://us-python.pkg.dev/colab-wheels/public/simple/\n",
            "Collecting Bio\n",
            "  Downloading bio-1.5.9-py3-none-any.whl (276 kB)\n",
            "\u001b[2K     \u001b[90m━━━━━━━━━━━━━━━━━━━━━━━━━━━━━━━━━━━━━━━\u001b[0m \u001b[32m276.4/276.4 kB\u001b[0m \u001b[31m5.7 MB/s\u001b[0m eta \u001b[36m0:00:00\u001b[0m\n",
            "\u001b[?25hCollecting biopython>=1.80 (from Bio)\n",
            "  Downloading biopython-1.81-cp310-cp310-manylinux_2_17_x86_64.manylinux2014_x86_64.whl (3.1 MB)\n",
            "\u001b[2K     \u001b[90m━━━━━━━━━━━━━━━━━━━━━━━━━━━━━━━━━━━━━━━━\u001b[0m \u001b[32m3.1/3.1 MB\u001b[0m \u001b[31m50.9 MB/s\u001b[0m eta \u001b[36m0:00:00\u001b[0m\n",
            "\u001b[?25hRequirement already satisfied: requests in /usr/local/lib/python3.10/dist-packages (from Bio) (2.27.1)\n",
            "Requirement already satisfied: tqdm in /usr/local/lib/python3.10/dist-packages (from Bio) (4.65.0)\n",
            "Collecting mygene (from Bio)\n",
            "  Downloading mygene-3.2.2-py2.py3-none-any.whl (5.4 kB)\n",
            "Requirement already satisfied: pandas in /usr/local/lib/python3.10/dist-packages (from Bio) (1.5.3)\n",
            "Requirement already satisfied: pooch in /usr/local/lib/python3.10/dist-packages (from Bio) (1.6.0)\n",
            "Collecting gprofiler-official (from Bio)\n",
            "  Downloading gprofiler_official-1.0.0-py3-none-any.whl (9.3 kB)\n",
            "Requirement already satisfied: numpy in /usr/local/lib/python3.10/dist-packages (from biopython>=1.80->Bio) (1.22.4)\n",
            "Collecting biothings-client>=0.2.6 (from mygene->Bio)\n",
            "  Downloading biothings_client-0.3.0-py2.py3-none-any.whl (29 kB)\n",
            "Requirement already satisfied: python-dateutil>=2.8.1 in /usr/local/lib/python3.10/dist-packages (from pandas->Bio) (2.8.2)\n",
            "Requirement already satisfied: pytz>=2020.1 in /usr/local/lib/python3.10/dist-packages (from pandas->Bio) (2022.7.1)\n",
            "Requirement already satisfied: appdirs>=1.3.0 in /usr/local/lib/python3.10/dist-packages (from pooch->Bio) (1.4.4)\n",
            "Requirement already satisfied: packaging>=20.0 in /usr/local/lib/python3.10/dist-packages (from pooch->Bio) (23.1)\n",
            "Requirement already satisfied: urllib3<1.27,>=1.21.1 in /usr/local/lib/python3.10/dist-packages (from requests->Bio) (1.26.15)\n",
            "Requirement already satisfied: certifi>=2017.4.17 in /usr/local/lib/python3.10/dist-packages (from requests->Bio) (2022.12.7)\n",
            "Requirement already satisfied: charset-normalizer~=2.0.0 in /usr/local/lib/python3.10/dist-packages (from requests->Bio) (2.0.12)\n",
            "Requirement already satisfied: idna<4,>=2.5 in /usr/local/lib/python3.10/dist-packages (from requests->Bio) (3.4)\n",
            "Requirement already satisfied: six>=1.5 in /usr/local/lib/python3.10/dist-packages (from python-dateutil>=2.8.1->pandas->Bio) (1.16.0)\n",
            "Installing collected packages: biopython, gprofiler-official, biothings-client, mygene, Bio\n",
            "Successfully installed Bio-1.5.9 biopython-1.81 biothings-client-0.3.0 gprofiler-official-1.0.0 mygene-3.2.2\n"
          ]
        }
      ],
      "source": [
        "!pip install Bio"
      ]
    },
    {
      "cell_type": "code",
      "execution_count": 3,
      "metadata": {},
      "outputs": [],
      "source": [
        "import sys\n",
        "from Bio import Entrez\n",
        "import pandas as pd\n",
        "import os\n",
        "import scanpy as sc\n",
        "import numpy as np"
      ]
    },
    {
      "cell_type": "code",
      "execution_count": 9,
      "metadata": {},
      "outputs": [],
      "source": [
        "adata_est = sc.read(\"datasets/masked.h5ad\")"
      ]
    },
    {
      "attachments": {},
      "cell_type": "markdown",
      "metadata": {},
      "source": [
        "# **Create input files for R (Estimate)**"
      ]
    },
    {
      "cell_type": "code",
      "execution_count": 10,
      "metadata": {},
      "outputs": [],
      "source": [
        "# !mkdir R_time\n",
        "\n",
        "# Transpose the expression matrix\n",
        "expression_matrix = adata_est.X.T\n",
        "\n",
        "# Get the gene and cell names\n",
        "gene_names = adata_est.var_names\n",
        "cell_names = adata_est.obs_names\n",
        "lines = []\n",
        "\n",
        "# Add the header line with cell names\n",
        "header = \"gene\\t\" + \"\\t\".join(cell_names)\n",
        "lines.append(header)\n",
        "\n",
        "# Add the data lines with gene names and expression values\n",
        "for i in range(expression_matrix.shape[0]):\n",
        "    gene_name = gene_names[i]\n",
        "    expression_values = \"\\t\".join(expression_matrix[i].astype(str))\n",
        "    line = gene_name + \"\\t\" + expression_values\n",
        "    lines.append(line)\n",
        "\n",
        "# Write the lines to a text file in the Seurat_files directory\n",
        "output_directory = \"R_time\"\n",
        "os.makedirs(output_directory, exist_ok=True)\n",
        "output_file = os.path.join(output_directory, \"input_Estimate_format.txt\")\n",
        "with open(output_file, \"w\") as file:\n",
        "    file.write(\"\\n\".join(lines))"
      ]
    },
    {
      "attachments": {},
      "cell_type": "markdown",
      "metadata": {},
      "source": [
        "# **Create input files for R (Genefu)**"
      ]
    },
    {
      "cell_type": "code",
      "execution_count": 4,
      "metadata": {},
      "outputs": [],
      "source": [
        "adata_gen = sc.read(\"datasets/tumour_cellcounts.h5ad\")"
      ]
    },
    {
      "cell_type": "code",
      "execution_count": 5,
      "metadata": {},
      "outputs": [],
      "source": [
        "tumor_indices = np.where(adata_gen.obs['type'] == 'Tumor')[0]\n",
        "expr_data = adata_gen.X[tumor_indices, :]"
      ]
    },
    {
      "cell_type": "code",
      "execution_count": 6,
      "metadata": {},
      "outputs": [],
      "source": [
        "# Save gene expression data to a CSV file\n",
        "np.savetxt('R_time/gene_expression.csv', expr_data, delimiter=',')\n",
        "\n",
        "# Save features.csv\n",
        "features = pd.DataFrame({'GeneID': adata_gen.var_names})\n",
        "features.to_csv('R_time/gene_names.csv', sep=',', index=False)\n",
        "\n",
        "# Convert cell_names to a one-dimensional string array\n",
        "cell_names_arr = np.array(adata_gen.obs_names)[tumor_indices].astype(str)\n",
        "\n",
        "barcodes = pd.DataFrame({'CellID': cell_names_arr})\n",
        "barcodes.to_csv('R_time/cell_names.csv', sep=',', index=False)"
      ]
    },
    {
      "attachments": {},
      "cell_type": "markdown",
      "metadata": {},
      "source": [
        "# **API for Entrez ID**"
      ]
    },
    {
      "cell_type": "code",
      "execution_count": 7,
      "metadata": {
        "id": "Ixh3kC2lsZCa"
      },
      "outputs": [],
      "source": [
        "Entrez.email = \"s.alvanakis@gmail.com\""
      ]
    },
    {
      "cell_type": "code",
      "execution_count": 8,
      "metadata": {
        "id": "_--XnYy5tNV4"
      },
      "outputs": [],
      "source": [
        "dfs = pd.read_csv('R_time/gene_names.csv')"
      ]
    },
    {
      "cell_type": "code",
      "execution_count": 9,
      "metadata": {
        "id": "ExMKz1fxtg_H"
      },
      "outputs": [],
      "source": [
        "genes_list = dfs[\"GeneID\"].values.tolist()"
      ]
    },
    {
      "cell_type": "code",
      "execution_count": 10,
      "metadata": {
        "id": "wt_iu58Tdx4W"
      },
      "outputs": [],
      "source": [
        "def get_entrez_gene_id(gene_name):\n",
        "    handle = Entrez.esearch(db=\"gene\", term=gene_name)\n",
        "    record = Entrez.read(handle)\n",
        "    handle.close()\n",
        "    if len(record[\"IdList\"]) > 0:\n",
        "        return record[\"IdList\"][0]\n",
        "    else:\n",
        "        return None\n"
      ]
    },
    {
      "cell_type": "code",
      "execution_count": 11,
      "metadata": {
        "id": "ArgtstLLfOZu"
      },
      "outputs": [],
      "source": [
        "entrez_gene_ids = []"
      ]
    },
    {
      "cell_type": "code",
      "execution_count": null,
      "metadata": {
        "id": "-c_ZAC-8dx6c"
      },
      "outputs": [],
      "source": [
        "for gene_name in genes_list:\n",
        "    entrez_gene_id = get_entrez_gene_id(gene_name)\n",
        "    entrez_gene_ids.append(entrez_gene_id)\n"
      ]
    },
    {
      "cell_type": "code",
      "execution_count": null,
      "metadata": {
        "id": "XT13rdtjefMQ"
      },
      "outputs": [],
      "source": [
        "dfs['Entrez_ID'] = entrez_gene_ids"
      ]
    },
    {
      "cell_type": "code",
      "execution_count": 46,
      "metadata": {
        "colab": {
          "base_uri": "https://localhost:8080/",
          "height": 17
        },
        "id": "c6okLzwvxnJ8",
        "outputId": "47c70126-9f18-43ea-8b24-8d72d3e331ae"
      },
      "outputs": [],
      "source": [
        "# Save DataFrame as a CSV file\n",
        "dfs.to_csv('R_time/Entrez_id.csv', sep=',', index=False)"
      ]
    },
    {
      "cell_type": "code",
      "execution_count": null,
      "metadata": {},
      "outputs": [],
      "source": []
    }
  ],
  "metadata": {
    "colab": {
      "provenance": []
    },
    "kernelspec": {
      "display_name": "Python 3",
      "name": "python3"
    },
    "language_info": {
      "codemirror_mode": {
        "name": "ipython",
        "version": 3
      },
      "file_extension": ".py",
      "mimetype": "text/x-python",
      "name": "python",
      "nbconvert_exporter": "python",
      "pygments_lexer": "ipython3",
      "version": "3.9.13"
    }
  },
  "nbformat": 4,
  "nbformat_minor": 0
}
